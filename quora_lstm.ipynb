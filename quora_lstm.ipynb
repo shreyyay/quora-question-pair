{
 "cells": [
  {
   "cell_type": "code",
   "execution_count": 1,
   "metadata": {
    "collapsed": false
   },
   "outputs": [],
   "source": [
    "import tensorflow as tf\n",
    "sess = tf.Session()\n",
    "\n"
   ]
  },
  {
   "cell_type": "code",
   "execution_count": 2,
   "metadata": {
    "collapsed": false
   },
   "outputs": [],
   "source": [
    "config = tf.ConfigProto(allow_soft_placement=True)\n",
    "config.gpu_options.allow_growth=True"
   ]
  },
  {
   "cell_type": "code",
   "execution_count": 3,
   "metadata": {
    "collapsed": false
   },
   "outputs": [
    {
     "name": "stderr",
     "output_type": "stream",
     "text": [
      "Using TensorFlow backend.\n"
     ]
    }
   ],
   "source": [
    "import os\n",
    "\n",
    "import numpy as np\n",
    "\n",
    "from imp import reload\n",
    "\n",
    "\n",
    "\n",
    "from keras.layers.merge import concatenate\n",
    "from keras.models import Model\n",
    "\n",
    "\n",
    "import sys\n"
   ]
  },
  {
   "cell_type": "code",
   "execution_count": 4,
   "metadata": {
    "collapsed": false
   },
   "outputs": [],
   "source": [
    "\n",
    "\n",
    "train_data_file =  \"C:/input/train.csv/train.csv\"\n",
    "test_data_file = \"C:/input/test.csv/test.csv\"\n"
   ]
  },
  {
   "cell_type": "code",
   "execution_count": 5,
   "metadata": {
    "collapsed": false
   },
   "outputs": [
    {
     "name": "stderr",
     "output_type": "stream",
     "text": [
      "C:\\Users\\Shrey u\\Anaconda3\\lib\\site-packages\\gensim\\utils.py:860: UserWarning: detected Windows; aliasing chunkize to chunkize_serial\n",
      "  warnings.warn(\"detected Windows; aliasing chunkize to chunkize_serial\")\n"
     ]
    }
   ],
   "source": [
    "#index word vectors\n",
    "from gensim.models import KeyedVectors\n",
    "word2vec = KeyedVectors.load_word2vec_format(\"C:/input/GoogleNews-vectors-negative300.bin\", binary = True)\n"
   ]
  },
  {
   "cell_type": "code",
   "execution_count": 6,
   "metadata": {
    "collapsed": true
   },
   "outputs": [],
   "source": [
    "#text cleaning\n",
    "\n",
    "def clean_text(text):\n",
    "    \n",
    "    #convert words in text to lower case and split them into words\n",
    "    text = text.lower().split()\n",
    "    \n",
    "    #remove stopwords from the text\n",
    "    stop = set(stopwords.words(\"english\"))\n",
    "    text = [w for w in text if not w in stop]\n",
    "    \n",
    "    text = \" \".join(text)\n",
    "    \n",
    "    # clean text\n",
    "    text = re.sub(r\"[^A-Za-z0-9^,!.\\/'+-=]\", \" \", text)\n",
    "    text = re.sub(r\"what's\", \"what is \", text)\n",
    "    text = re.sub(r\"\\'s\", \" \", text)\n",
    "    text = re.sub(r\"\\'ve\", \" have \", text)\n",
    "    text = re.sub(r\"can't\", \"cannot \", text)\n",
    "    text = re.sub(r\"n't\", \" not \", text)\n",
    "    text = re.sub(r\"i'm\", \"i am \", text)\n",
    "    text = re.sub(r\"\\'re\", \" are \", text)\n",
    "    text = re.sub(r\"\\'d\", \" would \", text)\n",
    "    text = re.sub(r\"\\'ll\", \" will \", text)\n",
    "    text = re.sub(r\",\", \" \", text)\n",
    "    text = re.sub(r\"\\.\", \" \", text)\n",
    "    text = re.sub(r\"!\", \" ! \", text)\n",
    "    text = re.sub(r\"\\/\", \" \", text)\n",
    "    text = re.sub(r\"\\^\", \" ^ \", text)\n",
    "    text = re.sub(r\"\\+\", \" + \", text)\n",
    "    text = re.sub(r\"\\-\", \" - \", text)\n",
    "    text = re.sub(r\"\\=\", \" = \", text)\n",
    "    text = re.sub(r\"'\", \" \", text)\n",
    "    text = re.sub(r\"(\\d+)(k)\", r\"\\g<1>000\", text)\n",
    "    text = re.sub(r\":\", \" : \", text)\n",
    "    text = re.sub(r\" e g \", \" eg \", text)\n",
    "    text = re.sub(r\" b g \", \" bg \", text)\n",
    "    text = re.sub(r\" u s \", \" american \", text)\n",
    "    text = re.sub(r\"\\0s\", \"0\", text)\n",
    "    text = re.sub(r\" 9 11 \", \"911\", text)\n",
    "    text = re.sub(r\"e - mail\", \"email\", text)\n",
    "    text = re.sub(r\"j k\", \"jk\", text)\n",
    "    text = re.sub(r\"\\s{2,}\", \" \", text)\n",
    "    \n",
    "   \n",
    "    \n",
    "\n",
    "    return text\n"
   ]
  },
  {
   "cell_type": "code",
   "execution_count": null,
   "metadata": {
    "collapsed": false
   },
   "outputs": [],
   "source": [
    "import codecs\n",
    "import csv\n",
    "import re\n",
    "from nltk.corpus import stopwords\n",
    "from string import punctuation\n",
    "\n",
    "train_texts_1 = [] \n",
    "train_texts_2 = []\n",
    "labels = []\n",
    "\n",
    "with codecs.open(train_data_file, encoding = 'utf-8') as f:\n",
    "    reader = csv.reader(f, delimiter = ',')\n",
    "    header = next(reader)\n",
    "    for row in reader:\n",
    "        train_texts_1.append(clean_text(row[3]))\n",
    "        train_texts_2.append(clean_text(row[4]))\n",
    "        labels.append(int(row[5]))\n",
    "      \n",
    "#train_texts_1 is a list containing question1 of training data\n",
    "# similarily train_texts_2 contains question 2\n",
    "#labels is a list containing 'is_duplicate'column from training data\n",
    "                        \n",
    "\n",
    "    "
   ]
  },
  {
   "cell_type": "code",
   "execution_count": null,
   "metadata": {
    "collapsed": false
   },
   "outputs": [],
   "source": [
    "test_texts_1 = []\n",
    "test_texts_2 = []\n",
    "test_ids = []\n",
    "\n",
    "with codecs.open(test_data_file, encoding = 'utf-8') as f:\n",
    "    reader = csv.reader(f, delimiter = ',')\n",
    "    header = next(reader)\n",
    "    for row in reader:\n",
    "        test_texts_1.append(clean_text(row[1]))\n",
    "        test_texts_2.append(clean_text(row[2]))\n",
    "        test_ids.append(row[0])\n",
    " #likewise above cell test_texts_1, tests_texts_2 and test_ids are the list containing question1, question                   "
   ]
  },
  {
   "cell_type": "code",
   "execution_count": null,
   "metadata": {
    "collapsed": true
   },
   "outputs": [],
   "source": [
    "from keras.preprocessing.text import Tokenizer\n",
    "from keras.preprocessing.sequence import pad_sequences\n",
    "\n",
    "max_words = 200000\n",
    "max_seq_len = 30\n",
    "tokenizer = Tokenizer(num_words = max_words)\n",
    "tokenizer.fit_on_texts(train_texts_1 + train_texts_2 + test_texts_1 + test_texts_2)\n",
    "\n",
    "train_sequences_1 = tokenizer.texts_to_sequences(train_texts_1)\n",
    "train_sequences_2 = tokenizer.texts_to_sequences(train_texts_2)\n",
    "\n",
    "test_sequences_1 = tokenizer.texts_to_sequences(test_texts_1)\n",
    "test_sequences_2 = tokenizer.texts_to_sequences(test_texts_2)\n",
    "\n",
    "word_index = tokenizer.word_index\n",
    "\n",
    "train_data_1 = pad_sequences(train_sequences_1, maxlen = max_seq_len)\n",
    "train_data_2 = pad_sequences(train_sequences_2, maxlen = max_seq_len)\n",
    "labels = np.array(labels)\n",
    "\n",
    "test_data_1 = pad_sequences(test_sequences_1, maxlen = max_seq_len)\n",
    "test_data_2 = pad_sequences(test_sequences_2, maxlen = max_seq_len)\n",
    "test_ids = np.array(test_ids)"
   ]
  },
  {
   "cell_type": "code",
   "execution_count": null,
   "metadata": {
    "collapsed": true
   },
   "outputs": [],
   "source": [
    "# prepare word embedding\n",
    "\n",
    "e_words = min(max_words, len(word_index)) + 1\n",
    "embedding_dim = 300\n",
    "\n",
    "embedding_matrix = np.zeros((e_words, embedding_dim))\n",
    "for word, i in word_index.items():\n",
    "    if word in word2vec.vocab:\n",
    "        embedding_matrix[i] = word2vec.word_vec(word)"
   ]
  },
  {
   "cell_type": "code",
   "execution_count": null,
   "metadata": {
    "collapsed": false
   },
   "outputs": [],
   "source": [
    "validation_split = 0.1\n",
    "\n",
    "# split to train and validation set\n",
    "\n",
    "perm = np.random.permutation(len(train_data_1))\n",
    "idx_train = perm[:int(len(train_data_1) * (1 - validation_split))]\n",
    "idx_val = perm[int(len(train_data_1) * (1 - validation_split)):]\n",
    "\n",
    "X1_train = train_data_1[idx_train]\n",
    "X2_train = train_data_2[idx_train]\n",
    "y_train = labels[idx_train]\n",
    "\n",
    "X1_val = train_data_1[idx_val]\n",
    "X2_val = train_data_2[idx_val]\n",
    "y_val = labels[idx_val]\n",
    "\n",
    "X1_test = test_data_1\n",
    "X2_test = test_data_2\n",
    "\n",
    "# split to dicts\n",
    "\n",
    "X_train = {'left' : X1_train, 'right' : X2_train}\n",
    "X_val = {'left' : X1_val, 'right' : X2_val}\n",
    "X_test = {'left' : X1_test, 'right': X2_test}\n",
    "\n",
    "# make sure everything is good\n",
    "\n",
    "assert X_train['left'].shape == X_train['right'].shape\n",
    "assert len(X_train['left']) == len(y_train)\n",
    "\n",
    "\n"
   ]
  },
  {
   "cell_type": "code",
   "execution_count": null,
   "metadata": {
    "collapsed": false
   },
   "outputs": [],
   "source": [
    "from keras.layers import Dense, Input, LSTM, Embedding, Dropout, Activation, Lambda, CuDNNLSTM\n",
    "from keras.layers.merge import concatenate\n",
    "import keras.backend as K\n",
    "\n",
    "# initialize model variables\n",
    "\n",
    "num_lstm = np.random.randint(175, 275)\n",
    "batch_size = 2048\n",
    "n_epoch = 30\n",
    "rate_drop_lstm = 0.15 + np.random.rand() * 0.25\n",
    "rate_drop_dense = 0.15 + np.random.rand() * 0.25\n",
    "\n",
    "# function to check similarity between 2 outputs of lstm layer\n",
    "\n",
    "def sim_func(left, right):\n",
    "    ''' this function will estimate similarity between the outputs of lstm'''\n",
    "    return K.exp(-K.sum(K.abs(left - right), axis = 1, keepdims = True))\n",
    "# define the model structure\n",
    "\n",
    "# the visible layer\n",
    "\n",
    "left_input = Input(shape = (max_seq_len,), dtype = 'int32')\n",
    "right_input = Input(shape = (max_seq_len,), dtype = 'int32')\n",
    "\n",
    "# the embedding layer\n",
    "\n",
    "embedding_layer = Embedding(e_words, embedding_dim, \n",
    "                            weights = [embedding_matrix],\n",
    "                            input_length = max_seq_len,\n",
    "                            trainable = False )\n",
    "# embedded version of the input\n",
    "\n",
    "encoded_left = embedding_layer(left_input)\n",
    "encoded_right = embedding_layer(right_input)\n",
    "\n",
    "# since, this is a siamese network both the sub network share same lstm \n",
    "\n",
    "shared_lstm = LSTM(num_lstm)\n",
    "\n",
    "left_output = shared_lstm(encoded_left)\n",
    "right_output = shared_lstm(encoded_right)\n",
    "\n",
    "\n",
    "\n",
    "\n",
    "malstm_distance = Lambda(lambda x: sim_func(x[0], x[1]),\n",
    "                         output_shape = lambda x: (x[0][0], 1))([left_output, right_output])\n",
    "preds = Dense(1, activation='sigmoid')(malstm_distance)\n",
    "\n",
    "# pack it all into a model\n",
    "\n",
    "malstm = Model([left_input, right_input], [preds])\n",
    "\n",
    "malstm.compile(loss = 'binary_crossentropy',\n",
    "              optimizer = 'nadam',\n",
    "              metrics = ['acc'])\n"
   ]
  },
  {
   "cell_type": "code",
   "execution_count": null,
   "metadata": {
    "collapsed": false
   },
   "outputs": [],
   "source": [
    "# start training\n",
    "\n",
    "from time import time\n",
    "\n",
    "training_start_time = time()\n",
    "\n",
    "malstm_trained = malstm.fit([X_train['left'], X_train['right']], y_train, batch_size = batch_size, epochs = n_epoch,\n",
    "                           validation_data = ([X_val['left'], X_val['right']], y_val))\n",
    "\n",
    "#print(\"Training time finished.\\n{} epochs in {}\".format(n_epoch, datetime.timedelta(seconds=time()-training_start_time)))"
   ]
  },
  {
   "cell_type": "code",
   "execution_count": null,
   "metadata": {
    "collapsed": false
   },
   "outputs": [],
   "source": [
    "# Plot accuracy\n",
    "import matplotlib.pyplot as plt\n",
    "\n",
    "plt.plot(malstm_trained.history['acc'])\n",
    "plt.plot(malstm_trained.history['val_acc'])\n",
    "plt.title('Model Accuracy')\n",
    "plt.ylabel('Accuracy')\n",
    "plt.xlabel('Epoch')\n",
    "plt.legend(['Train', 'Validation'], loc='upper left')\n",
    "plt.show()\n",
    "\n",
    "# Plot loss\n",
    "plt.plot(malstm_trained.history['loss'])\n",
    "plt.plot(malstm_trained.history['val_loss'])\n",
    "plt.title('Model Loss')\n",
    "plt.ylabel('Loss')\n",
    "plt.xlabel('Epoch')\n",
    "plt.legend(['Train', 'Validation'], loc='upper right')\n",
    "plt.show()"
   ]
  },
  {
   "cell_type": "code",
   "execution_count": null,
   "metadata": {
    "collapsed": false
   },
   "outputs": [],
   "source": [
    "# prediction using test set\n",
    "preds = malstm.predict([X_test['left'], X_test['right']], batch_size = 3000, verbose = 1)\n"
   ]
  },
  {
   "cell_type": "code",
   "execution_count": null,
   "metadata": {
    "collapsed": false
   },
   "outputs": [],
   "source": [
    "submission = pd.DataFrame({'test_id':test_ids, 'is_duplicate':preds.ravel()})\n",
    "\n",
    "submission.to_csv('pred.csv', index=False)\n"
   ]
  }
 ],
 "metadata": {
  "anaconda-cloud": {},
  "kernelspec": {
   "display_name": "Python [conda root]",
   "language": "python",
   "name": "conda-root-py"
  },
  "language_info": {
   "codemirror_mode": {
    "name": "ipython",
    "version": 3
   },
   "file_extension": ".py",
   "mimetype": "text/x-python",
   "name": "python",
   "nbconvert_exporter": "python",
   "pygments_lexer": "ipython3",
   "version": "3.5.2"
  }
 },
 "nbformat": 4,
 "nbformat_minor": 2
}
